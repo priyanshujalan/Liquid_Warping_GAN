{
  "nbformat": 4,
  "nbformat_minor": 0,
  "metadata": {
    "colab": {
      "name": "impersonator.ipynb",
      "provenance": [],
      "include_colab_link": true
    },
    "kernelspec": {
      "name": "python3",
      "display_name": "Python 3"
    },
    "accelerator": "GPU"
  },
  "cells": [
    {
      "cell_type": "markdown",
      "metadata": {
        "id": "view-in-github",
        "colab_type": "text"
      },
      "source": [
        "<a href=\"https://colab.research.google.com/github/ak9250/impersonator/blob/master/impersonator.ipynb\" target=\"_parent\"><img src=\"https://colab.research.google.com/assets/colab-badge.svg\" alt=\"Open In Colab\"/></a>"
      ]
    },
    {
      "cell_type": "code",
      "metadata": {
        "id": "8VEE2lbHAaU6",
        "colab_type": "code",
        "colab": {}
      },
      "source": [
        "!git clone https://github.com/svip-lab/impersonator.git"
      ],
      "execution_count": 0,
      "outputs": []
    },
    {
      "cell_type": "code",
      "metadata": {
        "id": "iqJFV169A8yU",
        "colab_type": "code",
        "colab": {}
      },
      "source": [
        "cd impersonator/"
      ],
      "execution_count": 0,
      "outputs": []
    },
    {
      "cell_type": "code",
      "metadata": {
        "id": "Q5bzxmCIBEZR",
        "colab_type": "code",
        "colab": {}
      },
      "source": [
        "!pip install -r requirements.txt"
      ],
      "execution_count": 0,
      "outputs": []
    },
    {
      "cell_type": "code",
      "metadata": {
        "id": "0hITOMy0BIEg",
        "colab_type": "code",
        "colab": {}
      },
      "source": [
        "cd thirdparty/neural_renderer"
      ],
      "execution_count": 0,
      "outputs": []
    },
    {
      "cell_type": "code",
      "metadata": {
        "id": "v7YtWs_BB_oj",
        "colab_type": "code",
        "colab": {}
      },
      "source": [
        "!python setup.py install"
      ],
      "execution_count": 0,
      "outputs": []
    },
    {
      "cell_type": "code",
      "metadata": {
        "id": "L2Zk_k5zQBAz",
        "colab_type": "code",
        "colab": {}
      },
      "source": [
        "cd ../.."
      ],
      "execution_count": 0,
      "outputs": []
    },
    {
      "cell_type": "code",
      "metadata": {
        "id": "BsrST13RCBrJ",
        "colab_type": "code",
        "colab": {}
      },
      "source": [
        "!wget -O assets/pretrains.zip https://1drv.ws/u/s!AjjUqiJZsj8whLNw4QyntCMsDKQjSg?e=L77Elv"
      ],
      "execution_count": 0,
      "outputs": []
    },
    {
      "cell_type": "code",
      "metadata": {
        "id": "QY66SAXqvgTC",
        "colab_type": "code",
        "colab": {}
      },
      "source": [
        "cd assets"
      ],
      "execution_count": 0,
      "outputs": []
    },
    {
      "cell_type": "code",
      "metadata": {
        "id": "VfInCx-lviCl",
        "colab_type": "code",
        "colab": {}
      },
      "source": [
        "!unzip pretrains.zip"
      ],
      "execution_count": 0,
      "outputs": []
    },
    {
      "cell_type": "code",
      "metadata": {
        "id": "4qd5Dx7Nvoo8",
        "colab_type": "code",
        "colab": {}
      },
      "source": [
        "cd .."
      ],
      "execution_count": 0,
      "outputs": []
    },
    {
      "cell_type": "code",
      "metadata": {
        "id": "L15STTOqq4Uw",
        "colab_type": "code",
        "colab": {}
      },
      "source": [
        "!wget -O outputs/checkpoints.zip https://1drv.ws/u/s!AjjUqiJZsj8whLNyoEh67Uu0LlxquA?e=dkOnhQ"
      ],
      "execution_count": 0,
      "outputs": []
    },
    {
      "cell_type": "code",
      "metadata": {
        "id": "DX-MPQKSs4pA",
        "colab_type": "code",
        "colab": {}
      },
      "source": [
        "cd outputs"
      ],
      "execution_count": 0,
      "outputs": []
    },
    {
      "cell_type": "code",
      "metadata": {
        "id": "Qz6mYZUEwF1d",
        "colab_type": "code",
        "colab": {}
      },
      "source": [
        "!unzip checkpoints.zip"
      ],
      "execution_count": 0,
      "outputs": []
    },
    {
      "cell_type": "code",
      "metadata": {
        "id": "Zm_daNeKwfqQ",
        "colab_type": "code",
        "colab": {}
      },
      "source": [
        "cd .."
      ],
      "execution_count": 0,
      "outputs": []
    },
    {
      "cell_type": "code",
      "metadata": {
        "id": "Waf-VocmwHlT",
        "colab_type": "code",
        "colab": {}
      },
      "source": [
        "!wget -O assets/samples.zip https://1drv.ws/u/s!AjjUqiJZsj8whLNz4BqnSgqrVwAXoQ?e=bC86db"
      ],
      "execution_count": 0,
      "outputs": []
    },
    {
      "cell_type": "code",
      "metadata": {
        "id": "o4T4aonowc4h",
        "colab_type": "code",
        "colab": {}
      },
      "source": [
        "cd assets"
      ],
      "execution_count": 0,
      "outputs": []
    },
    {
      "cell_type": "code",
      "metadata": {
        "id": "uVaYlUjBwnx1",
        "colab_type": "code",
        "colab": {}
      },
      "source": [
        "!unzip samples.zip"
      ],
      "execution_count": 0,
      "outputs": []
    },
    {
      "cell_type": "code",
      "metadata": {
        "id": "ZsG341nMwpqD",
        "colab_type": "code",
        "colab": {}
      },
      "source": [
        "cd .."
      ],
      "execution_count": 0,
      "outputs": []
    },
    {
      "cell_type": "code",
      "metadata": {
        "id": "UzEEAV_7w3xZ",
        "colab_type": "code",
        "colab": {}
      },
      "source": [
        "%%bash\n",
        "python run_imitator.py --gpu_ids 0 --model imitator --output_dir ./outputs/results/  \\\n",
        "    --src_path      ./assets/src_imgs/internet/men1_256.jpg    \\\n",
        "    --tgt_path      ./assets/samples/refs/iPER/024_8_2    \\\n",
        "    --bg_ks 7   --ft_ks 3 \\\n",
        "    --has_detector  --post_tune --front_warp \\\n",
        "    --save_res"
      ],
      "execution_count": 0,
      "outputs": []
    },
    {
      "cell_type": "code",
      "metadata": {
        "id": "dCrFpImFss1p",
        "colab_type": "code",
        "colab": {}
      },
      "source": [
        "%%bash\n",
        "python run_swap.py --gpu_ids 0 --model imitator --output_dir ./outputs/results/  \\\n",
        "    --src_path      ./assets/src_imgs/imper_A_Pose/024_8_2_0000.jpg    \\\n",
        "    --tgt_path      ./assets/src_imgs/fashion_man/Sweatshirts_Hoodies-id_0000680701_4_full.jpg    \\\n",
        "    --bg_ks 13  --ft_ks 3 \\\n",
        "    --has_detector  --post_tune  --front_warp --swap_part body  \\\n",
        "    --save_res"
      ],
      "execution_count": 0,
      "outputs": []
    },
    {
      "cell_type": "code",
      "metadata": {
        "id": "OEuNWk6Gt3sb",
        "colab_type": "code",
        "colab": {}
      },
      "source": [
        "%%bash\n",
        "python run_view.py --gpu_ids 0 --model viewer --output_dir ./outputs/results/  \\\n",
        "--src_path      ./assets/src_imgs/internet/women1_256.jpg    \\\n",
        "--bg_ks 13  --ft_ks 3 \\\n",
        "--has_detector  --post_tune --front_warp --bg_replace \\\n",
        "--save_res"
      ],
      "execution_count": 0,
      "outputs": []
    },
    {
      "cell_type": "code",
      "metadata": {
        "id": "fjERmHmJ0I4L",
        "colab_type": "code",
        "colab": {}
      },
      "source": [
        "!ffmpeg -f image2 -i /content/impersonator/outputs/results/imgs/%*.jpg -c:v libx264 -pix_fmt yuv420p out.mp4 -y"
      ],
      "execution_count": 0,
      "outputs": []
    },
    {
      "cell_type": "code",
      "metadata": {
        "id": "V4J6dde53ZIH",
        "colab_type": "code",
        "colab": {}
      },
      "source": [
        "!ffmpeg -f image2 -i /content/impersonator/outputs/results/imitators/gt_%04d.jpg -c:v libx264 -pix_fmt yuv420p out2.mp4 -y"
      ],
      "execution_count": 0,
      "outputs": []
    },
    {
      "cell_type": "code",
      "metadata": {
        "id": "TpNIX-xg6mby",
        "colab_type": "code",
        "colab": {}
      },
      "source": [
        "!ffmpeg -f image2 -i /content/impersonator/outputs/results/imitators/pred_%04d.jpg -c:v libx264 -pix_fmt yuv420p out3.mp4 -y"
      ],
      "execution_count": 0,
      "outputs": []
    },
    {
      "cell_type": "code",
      "metadata": {
        "id": "M1rIptSs7sW5",
        "colab_type": "code",
        "colab": {}
      },
      "source": [
        "!ffmpeg -i out2.mp4 -filter_complex \"[0:v] palettegen\" palette.png -y"
      ],
      "execution_count": 0,
      "outputs": []
    },
    {
      "cell_type": "code",
      "metadata": {
        "id": "miT5Lh-K7ybB",
        "colab_type": "code",
        "colab": {}
      },
      "source": [
        "!ffmpeg -i out2.mp4 -i palette.png -filter_complex \"[0:v][1:v] paletteuse\" endresult.gif -y"
      ],
      "execution_count": 0,
      "outputs": []
    },
    {
      "cell_type": "code",
      "metadata": {
        "id": "TmySGWrg76Ed",
        "colab_type": "code",
        "colab": {}
      },
      "source": [
        "!ffmpeg -i out3.mp4 -filter_complex \"[0:v] palettegen\" palette2.png -y"
      ],
      "execution_count": 0,
      "outputs": []
    },
    {
      "cell_type": "code",
      "metadata": {
        "id": "vO4yh4XX8G8X",
        "colab_type": "code",
        "colab": {}
      },
      "source": [
        "!ffmpeg -i out3.mp4 -i palette2.png -filter_complex \"[0:v][1:v] paletteuse\" endresult2.gif -y"
      ],
      "execution_count": 0,
      "outputs": []
    },
    {
      "cell_type": "code",
      "metadata": {
        "id": "uzBQa8K18LqX",
        "colab_type": "code",
        "colab": {}
      },
      "source": [
        "!ffmpeg -i endresult.gif -i endresult2.gif -filter_complex hstack outputstack2.gif -y"
      ],
      "execution_count": 0,
      "outputs": []
    },
    {
      "cell_type": "code",
      "metadata": {
        "id": "GT5o6Dmq8WAw",
        "colab_type": "code",
        "colab": {}
      },
      "source": [
        "!ffmpeg -i outputstack2.gif -f mp4 -c:v libx264 -pix_fmt yuv420p combined.mp4"
      ],
      "execution_count": 0,
      "outputs": []
    }
  ]
}